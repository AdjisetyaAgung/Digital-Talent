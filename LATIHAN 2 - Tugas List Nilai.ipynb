{
 "cells": [
  {
   "cell_type": "markdown",
   "metadata": {},
   "source": [
    "Diberikan sekumpulan Nilai Random antara 0 sampai dengan 100 sebanyak 250 nilai. Buatlah program untuk melakukan hal berikut:"
   ]
  },
  {
   "cell_type": "code",
   "execution_count": 1,
   "metadata": {
    "scrolled": true
   },
   "outputs": [
    {
     "name": "stdout",
     "output_type": "stream",
     "text": [
      "[71, 9, 70, 9, 37, 36, 33, 62, 96, 88, 58, 82, 71, 57, 63, 67, 63, 42, 60, 46, 39, 90, 68, 72, 28, 56, 94, 93, 42, 98, 55, 95, 33, 20, 73, 59, 89, 25, 97, 97, 30, 14, 58, 76, 42, 81, 56, 49, 85, 41, 49, 9, 21, 23, 17, 79, 41, 78, 10, 33, 67, 72, 10, 99, 30, 62, 42, 84, 55, 25, 11, 86, 13, 29, 10, 82, 1, 1, 83, 14, 4, 88, 12, 9, 5, 4, 96, 27, 53, 87, 78, 78, 76, 63, 7, 26, 93, 1, 2, 36, 7, 95, 62, 41, 60, 54, 59, 74, 55, 10, 49, 75, 8, 76, 68, 3, 60, 88, 81, 47, 18, 82, 93, 68, 12, 55, 80, 67, 4, 59, 1, 39, 73, 16, 40, 99, 16, 64, 74, 30, 58, 7, 93, 94, 74, 66, 59, 25, 97, 24, 80, 11, 89, 72, 30, 33, 45, 24, 5, 26, 5, 4, 22, 1, 26, 22, 15, 40, 40, 9, 57, 58, 70, 22, 75, 41, 54, 25, 5, 31, 40, 67, 61, 15, 69, 11, 91, 89, 22, 99, 81, 72, 47, 13, 53, 93, 7, 21, 89, 40, 75, 69, 92, 13, 74, 71, 90, 26, 76, 48, 86, 12, 91, 82, 75, 53, 52, 3, 45, 94, 37, 19, 44, 97, 27, 70, 59, 82, 92, 42, 48, 65, 60, 46, 6, 82, 16, 83, 60, 85, 9, 61, 30, 93, 18, 52, 11, 90, 55, 91]\n"
     ]
    }
   ],
   "source": [
    "import random\n",
    "nilaiTugas = []\n",
    "for i in range(250):\n",
    "    nilaiTugas.append(random.randrange(1,100,1))\n",
    "\n",
    "print(nilaiTugas)"
   ]
  },
  {
   "cell_type": "markdown",
   "metadata": {},
   "source": [
    "### 1. Tampilkan Angka Ganjil dari 250 Nilai Tersebut"
   ]
  },
  {
   "cell_type": "code",
   "execution_count": 2,
   "metadata": {
    "scrolled": true
   },
   "outputs": [
    {
     "name": "stdout",
     "output_type": "stream",
     "text": [
      "Nilai yang berupa angka ganjil dari list tersebut adalah: [71, 9, 9, 37, 33, 71, 57, 63, 67, 63, 39, 93, 55, 95, 33, 73, 59, 89, 25, 97, 97, 81, 49, 85, 41, 49, 9, 21, 23, 17, 79, 41, 33, 67, 99, 55, 25, 11, 13, 29, 1, 1, 83, 9, 5, 27, 53, 87, 63, 7, 93, 1, 7, 95, 41, 59, 55, 49, 75, 3, 81, 47, 93, 55, 67, 59, 1, 39, 73, 99, 7, 93, 59, 25, 97, 11, 89, 33, 45, 5, 5, 1, 15, 9, 57, 75, 41, 25, 5, 31, 67, 61, 15, 69, 11, 91, 89, 99, 81, 47, 13, 53, 93, 7, 21, 89, 75, 69, 13, 71, 91, 75, 53, 3, 45, 37, 19, 97, 27, 59, 65, 83, 85, 9, 61, 93, 11, 55, 91]\n"
     ]
    }
   ],
   "source": [
    "AngkaGanjil = []\n",
    "for n in nilaiTugas:\n",
    "    if n%2!=0:\n",
    "        AngkaGanjil.append(n)     \n",
    "print('Nilai yang berupa angka ganjil dari list tersebut adalah:', AngkaGanjil)"
   ]
  },
  {
   "cell_type": "markdown",
   "metadata": {},
   "source": [
    "### 2. Tampilkan berapa banyak yang mendapatkan nilai lebih dari 70"
   ]
  },
  {
   "cell_type": "code",
   "execution_count": 11,
   "metadata": {},
   "outputs": [
    {
     "name": "stdout",
     "output_type": "stream",
     "text": [
      "Banyaknya nilai yang lebih besar dari 70 yaitu  80\n"
     ]
    }
   ],
   "source": [
    "NilaiLebih70 = []\n",
    "for n in nilaiTugas:\n",
    "    if n>70:\n",
    "        NilaiLebih70.append(n)\n",
    "print('Banyaknya nilai yang lebih besar dari 70 yaitu ', len(NilaiLebih70))"
   ]
  },
  {
   "cell_type": "markdown",
   "metadata": {},
   "source": [
    "### 3. Tampilkan standar deviasi dari sekumpulan nilai tersebut"
   ]
  },
  {
   "cell_type": "code",
   "execution_count": 21,
   "metadata": {},
   "outputs": [
    {
     "name": "stdout",
     "output_type": "stream",
     "text": [
      "Standar Deviasi=  29.762251771700484\n"
     ]
    }
   ],
   "source": [
    "N = len(nilaiTugas)\n",
    "total = 0\n",
    "for n in nilaiTugas:\n",
    "    total = total + n\n",
    "\n",
    "rata = total/N\n",
    "\n",
    "pembilang = 0\n",
    "for n in nilaiTugas:\n",
    "    pembilang = pembilang + ((n-rata)**2)\n",
    "\n",
    "penyebut = N-1\n",
    "\n",
    "Standar_Deviasi = (pembilang / penyebut)**(1/2)\n",
    "print('Standar Deviasi= ', Standar_Deviasi)"
   ]
  },
  {
   "cell_type": "markdown",
   "metadata": {},
   "source": [
    "### 4. Tampilkan nilai maksimum dan minimum"
   ]
  },
  {
   "cell_type": "code",
   "execution_count": 10,
   "metadata": {},
   "outputs": [
    {
     "name": "stdout",
     "output_type": "stream",
     "text": [
      "Nilai Maksimum= 99\n",
      "Nilai Minimum= 1\n"
     ]
    }
   ],
   "source": [
    "nilaiMax = nilaiTugas[0]\n",
    "nilaiMin = nilaiTugas[0]\n",
    "for n in nilaiTugas:\n",
    "    if(n>nilaiMax):\n",
    "        nilaiMax = n\n",
    "    if(n<nilaiMin):\n",
    "        nilaiMin = n\n",
    "\n",
    "print('Nilai Maksimum=', nilaiMax)\n",
    "print('Nilai Minimum=', nilaiMin)"
   ]
  },
  {
   "cell_type": "markdown",
   "metadata": {},
   "source": [
    "### 5. Tampilkan modus dari sekumpulan nilai tersebut"
   ]
  },
  {
   "cell_type": "code",
   "execution_count": 25,
   "metadata": {},
   "outputs": [
    {
     "name": "stdout",
     "output_type": "stream",
     "text": [
      "Modus dari nilai tersebut adalah:  [9, 82, 93] \n",
      "dengan frekuensi kemunculan sebanyak:  6 kali\n"
     ]
    }
   ],
   "source": [
    "maxFreq = 0\n",
    "modus = []\n",
    "dictionaryNilai = {}\n",
    "for k in nilaiTugas:\n",
    "    Freq = nilaiTugas.count(k)\n",
    "    dictionaryNilai[k] = Freq\n",
    "    if Freq>maxFreq:\n",
    "        maxFreq = Freq\n",
    "#print(dictionaryNilai)\n",
    "\n",
    "for k,v in dictionaryNilai.items():\n",
    "    if v == maxFreq:\n",
    "        modus.append(k)\n",
    "    #print(k,':',v)\n",
    "print('Modus dari nilai tersebut adalah: ',modus,'\\ndengan frekuensi kemunculan sebanyak: ',maxFreq, 'kali')"
   ]
  },
  {
   "cell_type": "code",
   "execution_count": null,
   "metadata": {},
   "outputs": [],
   "source": []
  }
 ],
 "metadata": {
  "kernelspec": {
   "display_name": "Python 3",
   "language": "python",
   "name": "python3"
  },
  "language_info": {
   "codemirror_mode": {
    "name": "ipython",
    "version": 3
   },
   "file_extension": ".py",
   "mimetype": "text/x-python",
   "name": "python",
   "nbconvert_exporter": "python",
   "pygments_lexer": "ipython3",
   "version": "3.7.0"
  }
 },
 "nbformat": 4,
 "nbformat_minor": 2
}

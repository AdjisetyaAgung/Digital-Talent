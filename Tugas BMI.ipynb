{
 "cells": [
  {
   "cell_type": "markdown",
   "metadata": {},
   "source": [
    "# TUGAS PERHITUNGAN BMI\n",
    "Adjisetya Agung Aripambudi (BD-B)"
   ]
  },
  {
   "cell_type": "markdown",
   "metadata": {},
   "source": [
    "# LATIHAN\n",
    "Body Mass Index (BMI) menentukan sebuah keidealan berat badan terhadap tinggi badan. Berikut adalah formula dari BMI : BMI = weight (kg) ÷ height^2 (m^2). Buatlah sebuah program yang memiliki dua variabel berat badan dengan satuan KG, dan tinggi badan dengan satuan CM, kemudian keluaran dari program adalah Kategori BMI."
   ]
  },
  {
   "cell_type": "code",
   "execution_count": 1,
   "metadata": {},
   "outputs": [
    {
     "name": "stdout",
     "output_type": "stream",
     "text": [
      "Masukkan berat badan anda (kg): 70\n",
      "Masukkan tinggi badan anda (cm): 175\n",
      "Jadi, Body Mass Index anda adalah 22.857142857142858 dan masuk dalam kategori Normal (Healty Weight)\n"
     ]
    }
   ],
   "source": [
    "#input data\n",
    "berat = eval(input(\"Masukkan berat badan anda (kg): \"))\n",
    "tinggi_cm = eval(input(\"Masukkan tinggi badan anda (cm): \"))\n",
    "\n",
    "#konversi data\n",
    "tinggi = tinggi_cm/100\n",
    "\n",
    "#perhitungan BMI\n",
    "kondisi = berat/tinggi**2\n",
    "\n",
    "#kategori BMI\n",
    "if kondisi<15:\n",
    "    category = \"Very Severely Underweight\"\n",
    "elif 15 <= kondisi < 16:\n",
    "    category=\"Severely Underweight\"\n",
    "elif 16 <= kondisi < 18.5:\n",
    "    category = \"Underweight\"\n",
    "elif 18.5 <= kondisi < 25:\n",
    "    category = \"Normal (Healty Weight)\"\n",
    "elif 25 <= kondisi < 30:\n",
    "    category = \"Overweight\"\n",
    "elif 30 <= kondisi < 35:\n",
    "    category = \"Moderately Obese\"\n",
    "elif 35 <= kondisi < 40:\n",
    "    category = \"Severely Obese\"\n",
    "else:\n",
    "    category = \"Very Severely Obese\"\n",
    "\n",
    "print(\"Jadi, Body Mass Index anda adalah\", kondisi, \"dan masuk dalam kategori\", category)"
   ]
  }
 ],
 "metadata": {
  "kernelspec": {
   "display_name": "Python 3",
   "language": "python",
   "name": "python3"
  },
  "language_info": {
   "codemirror_mode": {
    "name": "ipython",
    "version": 3
   },
   "file_extension": ".py",
   "mimetype": "text/x-python",
   "name": "python",
   "nbconvert_exporter": "python",
   "pygments_lexer": "ipython3",
   "version": "3.7.0"
  }
 },
 "nbformat": 4,
 "nbformat_minor": 2
}
